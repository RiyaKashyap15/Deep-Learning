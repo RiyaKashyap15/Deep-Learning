{
 "cells": [
  {
   "cell_type": "code",
   "execution_count": 1,
   "id": "2b213871",
   "metadata": {},
   "outputs": [],
   "source": [
    "## high-performance data manipulation and analysis tool \n",
    "import pandas as pd\n",
    "\n",
    "#data visualization and graphical plotting library for Python and its numerical extension NumPy\n",
    "import matplotlib.pyplot as plt\n",
    "\n",
    "#a large library of high-level mathematical functions to operate on matrices and arrays\n",
    "import numpy as np\n",
    "\n",
    "#to interact with the underlying operating system\n",
    "import os\n",
    "\n",
    "#For ignoring Warning\n",
    "import warnings\n",
    "warnings.filterwarnings(\"ignore\")\n",
    "\n",
    "# For splitting the data into train and test\n",
    "from sklearn.model_selection import train_test_split\n",
    "\n",
    "# Standardizing(mean is 0 and sd is 1 .i.e. Normal Distribution) for convenient preprocessing \n",
    "from sklearn.preprocessing import StandardScaler\n",
    "\n",
    "# Importing the Keras libraries and packages\n",
    "import keras\n",
    "from keras.models import Sequential\n",
    "from keras.layers import Dense\n",
    "from keras.layers import LeakyReLU,PReLU,ELU\n",
    "from keras.layers import Dropout\n"
   ]
  },
  {
   "cell_type": "code",
   "execution_count": 2,
   "id": "462e760c",
   "metadata": {},
   "outputs": [],
   "source": [
    "# pip install tensorflow"
   ]
  },
  {
   "cell_type": "code",
   "execution_count": 3,
   "id": "765688f2",
   "metadata": {
    "scrolled": true
   },
   "outputs": [
    {
     "data": {
      "text/plain": [
       "'C:\\\\Users\\\\User\\\\Desktop\\\\Github\\\\Deep-Learning'"
      ]
     },
     "execution_count": 3,
     "metadata": {},
     "output_type": "execute_result"
    }
   ],
   "source": [
    "os.getcwd()"
   ]
  },
  {
   "cell_type": "code",
   "execution_count": 4,
   "id": "af830c63",
   "metadata": {},
   "outputs": [],
   "source": [
    "df = pd.read_csv('Churn_Modelling.csv',index_col='RowNumber')"
   ]
  },
  {
   "cell_type": "code",
   "execution_count": 5,
   "id": "ffea834a",
   "metadata": {},
   "outputs": [
    {
     "data": {
      "text/html": [
       "<div>\n",
       "<style scoped>\n",
       "    .dataframe tbody tr th:only-of-type {\n",
       "        vertical-align: middle;\n",
       "    }\n",
       "\n",
       "    .dataframe tbody tr th {\n",
       "        vertical-align: top;\n",
       "    }\n",
       "\n",
       "    .dataframe thead th {\n",
       "        text-align: right;\n",
       "    }\n",
       "</style>\n",
       "<table border=\"1\" class=\"dataframe\">\n",
       "  <thead>\n",
       "    <tr style=\"text-align: right;\">\n",
       "      <th></th>\n",
       "      <th>CustomerId</th>\n",
       "      <th>Surname</th>\n",
       "      <th>CreditScore</th>\n",
       "      <th>Geography</th>\n",
       "      <th>Gender</th>\n",
       "      <th>Age</th>\n",
       "      <th>Tenure</th>\n",
       "      <th>Balance</th>\n",
       "      <th>NumOfProducts</th>\n",
       "      <th>HasCrCard</th>\n",
       "      <th>IsActiveMember</th>\n",
       "      <th>EstimatedSalary</th>\n",
       "      <th>Exited</th>\n",
       "    </tr>\n",
       "    <tr>\n",
       "      <th>RowNumber</th>\n",
       "      <th></th>\n",
       "      <th></th>\n",
       "      <th></th>\n",
       "      <th></th>\n",
       "      <th></th>\n",
       "      <th></th>\n",
       "      <th></th>\n",
       "      <th></th>\n",
       "      <th></th>\n",
       "      <th></th>\n",
       "      <th></th>\n",
       "      <th></th>\n",
       "      <th></th>\n",
       "    </tr>\n",
       "  </thead>\n",
       "  <tbody>\n",
       "    <tr>\n",
       "      <th>1</th>\n",
       "      <td>15634602</td>\n",
       "      <td>Hargrave</td>\n",
       "      <td>619</td>\n",
       "      <td>France</td>\n",
       "      <td>Female</td>\n",
       "      <td>42</td>\n",
       "      <td>2</td>\n",
       "      <td>0.00</td>\n",
       "      <td>1</td>\n",
       "      <td>1</td>\n",
       "      <td>1</td>\n",
       "      <td>101348.88</td>\n",
       "      <td>1</td>\n",
       "    </tr>\n",
       "    <tr>\n",
       "      <th>2</th>\n",
       "      <td>15647311</td>\n",
       "      <td>Hill</td>\n",
       "      <td>608</td>\n",
       "      <td>Spain</td>\n",
       "      <td>Female</td>\n",
       "      <td>41</td>\n",
       "      <td>1</td>\n",
       "      <td>83807.86</td>\n",
       "      <td>1</td>\n",
       "      <td>0</td>\n",
       "      <td>1</td>\n",
       "      <td>112542.58</td>\n",
       "      <td>0</td>\n",
       "    </tr>\n",
       "    <tr>\n",
       "      <th>3</th>\n",
       "      <td>15619304</td>\n",
       "      <td>Onio</td>\n",
       "      <td>502</td>\n",
       "      <td>France</td>\n",
       "      <td>Female</td>\n",
       "      <td>42</td>\n",
       "      <td>8</td>\n",
       "      <td>159660.80</td>\n",
       "      <td>3</td>\n",
       "      <td>1</td>\n",
       "      <td>0</td>\n",
       "      <td>113931.57</td>\n",
       "      <td>1</td>\n",
       "    </tr>\n",
       "    <tr>\n",
       "      <th>4</th>\n",
       "      <td>15701354</td>\n",
       "      <td>Boni</td>\n",
       "      <td>699</td>\n",
       "      <td>France</td>\n",
       "      <td>Female</td>\n",
       "      <td>39</td>\n",
       "      <td>1</td>\n",
       "      <td>0.00</td>\n",
       "      <td>2</td>\n",
       "      <td>0</td>\n",
       "      <td>0</td>\n",
       "      <td>93826.63</td>\n",
       "      <td>0</td>\n",
       "    </tr>\n",
       "    <tr>\n",
       "      <th>5</th>\n",
       "      <td>15737888</td>\n",
       "      <td>Mitchell</td>\n",
       "      <td>850</td>\n",
       "      <td>Spain</td>\n",
       "      <td>Female</td>\n",
       "      <td>43</td>\n",
       "      <td>2</td>\n",
       "      <td>125510.82</td>\n",
       "      <td>1</td>\n",
       "      <td>1</td>\n",
       "      <td>1</td>\n",
       "      <td>79084.10</td>\n",
       "      <td>0</td>\n",
       "    </tr>\n",
       "  </tbody>\n",
       "</table>\n",
       "</div>"
      ],
      "text/plain": [
       "           CustomerId   Surname  CreditScore Geography  Gender  Age  Tenure  \\\n",
       "RowNumber                                                                     \n",
       "1            15634602  Hargrave          619    France  Female   42       2   \n",
       "2            15647311      Hill          608     Spain  Female   41       1   \n",
       "3            15619304      Onio          502    France  Female   42       8   \n",
       "4            15701354      Boni          699    France  Female   39       1   \n",
       "5            15737888  Mitchell          850     Spain  Female   43       2   \n",
       "\n",
       "             Balance  NumOfProducts  HasCrCard  IsActiveMember  \\\n",
       "RowNumber                                                        \n",
       "1               0.00              1          1               1   \n",
       "2           83807.86              1          0               1   \n",
       "3          159660.80              3          1               0   \n",
       "4               0.00              2          0               0   \n",
       "5          125510.82              1          1               1   \n",
       "\n",
       "           EstimatedSalary  Exited  \n",
       "RowNumber                           \n",
       "1                101348.88       1  \n",
       "2                112542.58       0  \n",
       "3                113931.57       1  \n",
       "4                 93826.63       0  \n",
       "5                 79084.10       0  "
      ]
     },
     "execution_count": 5,
     "metadata": {},
     "output_type": "execute_result"
    }
   ],
   "source": [
    "df.head()"
   ]
  },
  {
   "cell_type": "code",
   "execution_count": 6,
   "id": "deefda0a",
   "metadata": {},
   "outputs": [],
   "source": [
    "df.drop(['CustomerId', 'Surname'],axis = 1, inplace= True)"
   ]
  },
  {
   "cell_type": "code",
   "execution_count": 7,
   "id": "6a089401",
   "metadata": {},
   "outputs": [
    {
     "data": {
      "text/plain": [
       "(10000, 11)"
      ]
     },
     "execution_count": 7,
     "metadata": {},
     "output_type": "execute_result"
    }
   ],
   "source": [
    "df.shape"
   ]
  },
  {
   "cell_type": "code",
   "execution_count": 8,
   "id": "3c300bce",
   "metadata": {},
   "outputs": [
    {
     "data": {
      "text/plain": [
       "CreditScore          int64\n",
       "Geography           object\n",
       "Gender              object\n",
       "Age                  int64\n",
       "Tenure               int64\n",
       "Balance            float64\n",
       "NumOfProducts        int64\n",
       "HasCrCard            int64\n",
       "IsActiveMember       int64\n",
       "EstimatedSalary    float64\n",
       "Exited               int64\n",
       "dtype: object"
      ]
     },
     "execution_count": 8,
     "metadata": {},
     "output_type": "execute_result"
    }
   ],
   "source": [
    "df.dtypes"
   ]
  },
  {
   "cell_type": "code",
   "execution_count": 9,
   "id": "7f7e3d01",
   "metadata": {},
   "outputs": [
    {
     "data": {
      "text/plain": [
       "CreditScore        0\n",
       "Geography          0\n",
       "Gender             0\n",
       "Age                0\n",
       "Tenure             0\n",
       "Balance            0\n",
       "NumOfProducts      0\n",
       "HasCrCard          0\n",
       "IsActiveMember     0\n",
       "EstimatedSalary    0\n",
       "Exited             0\n",
       "dtype: int64"
      ]
     },
     "execution_count": 9,
     "metadata": {},
     "output_type": "execute_result"
    }
   ],
   "source": [
    "df.isnull().sum()"
   ]
  },
  {
   "cell_type": "code",
   "execution_count": 10,
   "id": "a9f21dbf",
   "metadata": {},
   "outputs": [
    {
     "data": {
      "text/plain": [
       "Index(['CreditScore', 'Geography', 'Gender', 'Age', 'Tenure', 'Balance',\n",
       "       'NumOfProducts', 'HasCrCard', 'IsActiveMember', 'EstimatedSalary',\n",
       "       'Exited'],\n",
       "      dtype='object')"
      ]
     },
     "execution_count": 10,
     "metadata": {},
     "output_type": "execute_result"
    }
   ],
   "source": [
    "df.columns"
   ]
  },
  {
   "cell_type": "code",
   "execution_count": 11,
   "id": "b4196ba1",
   "metadata": {},
   "outputs": [
    {
     "data": {
      "text/plain": [
       "RowNumber\n",
       "1    1\n",
       "2    0\n",
       "3    1\n",
       "4    0\n",
       "5    0\n",
       "Name: Exited, dtype: int64"
      ]
     },
     "execution_count": 11,
     "metadata": {},
     "output_type": "execute_result"
    }
   ],
   "source": [
    "X = df.iloc[:, :10]\n",
    "y = df.iloc[:, 10]\n",
    "# X.columns\n",
    "y.head()"
   ]
  },
  {
   "cell_type": "code",
   "execution_count": 12,
   "id": "277608bf",
   "metadata": {},
   "outputs": [],
   "source": [
    "# Creating dummies for geography and gender column and droping the first\n",
    "\n",
    "X= pd.get_dummies(X,prefix=['Geography','Gender'], columns=['Geography','Gender'],drop_first=True)"
   ]
  },
  {
   "cell_type": "code",
   "execution_count": 13,
   "id": "ee97712c",
   "metadata": {},
   "outputs": [
    {
     "data": {
      "text/html": [
       "<div>\n",
       "<style scoped>\n",
       "    .dataframe tbody tr th:only-of-type {\n",
       "        vertical-align: middle;\n",
       "    }\n",
       "\n",
       "    .dataframe tbody tr th {\n",
       "        vertical-align: top;\n",
       "    }\n",
       "\n",
       "    .dataframe thead th {\n",
       "        text-align: right;\n",
       "    }\n",
       "</style>\n",
       "<table border=\"1\" class=\"dataframe\">\n",
       "  <thead>\n",
       "    <tr style=\"text-align: right;\">\n",
       "      <th></th>\n",
       "      <th>CreditScore</th>\n",
       "      <th>Age</th>\n",
       "      <th>Tenure</th>\n",
       "      <th>Balance</th>\n",
       "      <th>NumOfProducts</th>\n",
       "      <th>HasCrCard</th>\n",
       "      <th>IsActiveMember</th>\n",
       "      <th>EstimatedSalary</th>\n",
       "      <th>Geography_Germany</th>\n",
       "      <th>Geography_Spain</th>\n",
       "      <th>Gender_Male</th>\n",
       "    </tr>\n",
       "    <tr>\n",
       "      <th>RowNumber</th>\n",
       "      <th></th>\n",
       "      <th></th>\n",
       "      <th></th>\n",
       "      <th></th>\n",
       "      <th></th>\n",
       "      <th></th>\n",
       "      <th></th>\n",
       "      <th></th>\n",
       "      <th></th>\n",
       "      <th></th>\n",
       "      <th></th>\n",
       "    </tr>\n",
       "  </thead>\n",
       "  <tbody>\n",
       "    <tr>\n",
       "      <th>1</th>\n",
       "      <td>619</td>\n",
       "      <td>42</td>\n",
       "      <td>2</td>\n",
       "      <td>0.00</td>\n",
       "      <td>1</td>\n",
       "      <td>1</td>\n",
       "      <td>1</td>\n",
       "      <td>101348.88</td>\n",
       "      <td>0</td>\n",
       "      <td>0</td>\n",
       "      <td>0</td>\n",
       "    </tr>\n",
       "    <tr>\n",
       "      <th>2</th>\n",
       "      <td>608</td>\n",
       "      <td>41</td>\n",
       "      <td>1</td>\n",
       "      <td>83807.86</td>\n",
       "      <td>1</td>\n",
       "      <td>0</td>\n",
       "      <td>1</td>\n",
       "      <td>112542.58</td>\n",
       "      <td>0</td>\n",
       "      <td>1</td>\n",
       "      <td>0</td>\n",
       "    </tr>\n",
       "    <tr>\n",
       "      <th>3</th>\n",
       "      <td>502</td>\n",
       "      <td>42</td>\n",
       "      <td>8</td>\n",
       "      <td>159660.80</td>\n",
       "      <td>3</td>\n",
       "      <td>1</td>\n",
       "      <td>0</td>\n",
       "      <td>113931.57</td>\n",
       "      <td>0</td>\n",
       "      <td>0</td>\n",
       "      <td>0</td>\n",
       "    </tr>\n",
       "    <tr>\n",
       "      <th>4</th>\n",
       "      <td>699</td>\n",
       "      <td>39</td>\n",
       "      <td>1</td>\n",
       "      <td>0.00</td>\n",
       "      <td>2</td>\n",
       "      <td>0</td>\n",
       "      <td>0</td>\n",
       "      <td>93826.63</td>\n",
       "      <td>0</td>\n",
       "      <td>0</td>\n",
       "      <td>0</td>\n",
       "    </tr>\n",
       "    <tr>\n",
       "      <th>5</th>\n",
       "      <td>850</td>\n",
       "      <td>43</td>\n",
       "      <td>2</td>\n",
       "      <td>125510.82</td>\n",
       "      <td>1</td>\n",
       "      <td>1</td>\n",
       "      <td>1</td>\n",
       "      <td>79084.10</td>\n",
       "      <td>0</td>\n",
       "      <td>1</td>\n",
       "      <td>0</td>\n",
       "    </tr>\n",
       "    <tr>\n",
       "      <th>...</th>\n",
       "      <td>...</td>\n",
       "      <td>...</td>\n",
       "      <td>...</td>\n",
       "      <td>...</td>\n",
       "      <td>...</td>\n",
       "      <td>...</td>\n",
       "      <td>...</td>\n",
       "      <td>...</td>\n",
       "      <td>...</td>\n",
       "      <td>...</td>\n",
       "      <td>...</td>\n",
       "    </tr>\n",
       "    <tr>\n",
       "      <th>9996</th>\n",
       "      <td>771</td>\n",
       "      <td>39</td>\n",
       "      <td>5</td>\n",
       "      <td>0.00</td>\n",
       "      <td>2</td>\n",
       "      <td>1</td>\n",
       "      <td>0</td>\n",
       "      <td>96270.64</td>\n",
       "      <td>0</td>\n",
       "      <td>0</td>\n",
       "      <td>1</td>\n",
       "    </tr>\n",
       "    <tr>\n",
       "      <th>9997</th>\n",
       "      <td>516</td>\n",
       "      <td>35</td>\n",
       "      <td>10</td>\n",
       "      <td>57369.61</td>\n",
       "      <td>1</td>\n",
       "      <td>1</td>\n",
       "      <td>1</td>\n",
       "      <td>101699.77</td>\n",
       "      <td>0</td>\n",
       "      <td>0</td>\n",
       "      <td>1</td>\n",
       "    </tr>\n",
       "    <tr>\n",
       "      <th>9998</th>\n",
       "      <td>709</td>\n",
       "      <td>36</td>\n",
       "      <td>7</td>\n",
       "      <td>0.00</td>\n",
       "      <td>1</td>\n",
       "      <td>0</td>\n",
       "      <td>1</td>\n",
       "      <td>42085.58</td>\n",
       "      <td>0</td>\n",
       "      <td>0</td>\n",
       "      <td>0</td>\n",
       "    </tr>\n",
       "    <tr>\n",
       "      <th>9999</th>\n",
       "      <td>772</td>\n",
       "      <td>42</td>\n",
       "      <td>3</td>\n",
       "      <td>75075.31</td>\n",
       "      <td>2</td>\n",
       "      <td>1</td>\n",
       "      <td>0</td>\n",
       "      <td>92888.52</td>\n",
       "      <td>1</td>\n",
       "      <td>0</td>\n",
       "      <td>1</td>\n",
       "    </tr>\n",
       "    <tr>\n",
       "      <th>10000</th>\n",
       "      <td>792</td>\n",
       "      <td>28</td>\n",
       "      <td>4</td>\n",
       "      <td>130142.79</td>\n",
       "      <td>1</td>\n",
       "      <td>1</td>\n",
       "      <td>0</td>\n",
       "      <td>38190.78</td>\n",
       "      <td>0</td>\n",
       "      <td>0</td>\n",
       "      <td>0</td>\n",
       "    </tr>\n",
       "  </tbody>\n",
       "</table>\n",
       "<p>10000 rows × 11 columns</p>\n",
       "</div>"
      ],
      "text/plain": [
       "           CreditScore  Age  Tenure    Balance  NumOfProducts  HasCrCard  \\\n",
       "RowNumber                                                                  \n",
       "1                  619   42       2       0.00              1          1   \n",
       "2                  608   41       1   83807.86              1          0   \n",
       "3                  502   42       8  159660.80              3          1   \n",
       "4                  699   39       1       0.00              2          0   \n",
       "5                  850   43       2  125510.82              1          1   \n",
       "...                ...  ...     ...        ...            ...        ...   \n",
       "9996               771   39       5       0.00              2          1   \n",
       "9997               516   35      10   57369.61              1          1   \n",
       "9998               709   36       7       0.00              1          0   \n",
       "9999               772   42       3   75075.31              2          1   \n",
       "10000              792   28       4  130142.79              1          1   \n",
       "\n",
       "           IsActiveMember  EstimatedSalary  Geography_Germany  \\\n",
       "RowNumber                                                       \n",
       "1                       1        101348.88                  0   \n",
       "2                       1        112542.58                  0   \n",
       "3                       0        113931.57                  0   \n",
       "4                       0         93826.63                  0   \n",
       "5                       1         79084.10                  0   \n",
       "...                   ...              ...                ...   \n",
       "9996                    0         96270.64                  0   \n",
       "9997                    1        101699.77                  0   \n",
       "9998                    1         42085.58                  0   \n",
       "9999                    0         92888.52                  1   \n",
       "10000                   0         38190.78                  0   \n",
       "\n",
       "           Geography_Spain  Gender_Male  \n",
       "RowNumber                                \n",
       "1                        0            0  \n",
       "2                        1            0  \n",
       "3                        0            0  \n",
       "4                        0            0  \n",
       "5                        1            0  \n",
       "...                    ...          ...  \n",
       "9996                     0            1  \n",
       "9997                     0            1  \n",
       "9998                     0            0  \n",
       "9999                     0            1  \n",
       "10000                    0            0  \n",
       "\n",
       "[10000 rows x 11 columns]"
      ]
     },
     "execution_count": 13,
     "metadata": {},
     "output_type": "execute_result"
    }
   ],
   "source": [
    "X"
   ]
  },
  {
   "cell_type": "code",
   "execution_count": 14,
   "id": "d5d8b50a",
   "metadata": {},
   "outputs": [
    {
     "data": {
      "text/plain": [
       "Index(['CreditScore', 'Age', 'Tenure', 'Balance', 'NumOfProducts', 'HasCrCard',\n",
       "       'IsActiveMember', 'EstimatedSalary', 'Geography_Germany',\n",
       "       'Geography_Spain', 'Gender_Male'],\n",
       "      dtype='object')"
      ]
     },
     "execution_count": 14,
     "metadata": {},
     "output_type": "execute_result"
    }
   ],
   "source": [
    "X.columns"
   ]
  },
  {
   "cell_type": "code",
   "execution_count": 15,
   "id": "ebb7cc16",
   "metadata": {},
   "outputs": [
    {
     "data": {
      "text/plain": [
       "(10000, 11)"
      ]
     },
     "execution_count": 15,
     "metadata": {},
     "output_type": "execute_result"
    }
   ],
   "source": [
    "X.shape"
   ]
  },
  {
   "cell_type": "code",
   "execution_count": 16,
   "id": "8b28169a",
   "metadata": {},
   "outputs": [
    {
     "data": {
      "text/plain": [
       "(10000,)"
      ]
     },
     "execution_count": 16,
     "metadata": {},
     "output_type": "execute_result"
    }
   ],
   "source": [
    "y.shape"
   ]
  },
  {
   "cell_type": "code",
   "execution_count": 17,
   "id": "f1378f32",
   "metadata": {},
   "outputs": [
    {
     "data": {
      "text/plain": [
       "(10000, 11)"
      ]
     },
     "execution_count": 17,
     "metadata": {},
     "output_type": "execute_result"
    }
   ],
   "source": [
    "X.shape"
   ]
  },
  {
   "cell_type": "code",
   "execution_count": 18,
   "id": "a68df9ad",
   "metadata": {},
   "outputs": [],
   "source": [
    "X_train,X_test,y_train,y_test = train_test_split(X,y,test_size = 0.2,random_state=0)"
   ]
  },
  {
   "cell_type": "code",
   "execution_count": 19,
   "id": "3181060a",
   "metadata": {},
   "outputs": [],
   "source": [
    "std_scaler = StandardScaler()"
   ]
  },
  {
   "cell_type": "code",
   "execution_count": 20,
   "id": "a9fcbe6a",
   "metadata": {},
   "outputs": [],
   "source": [
    "X_train = std_scaler.fit_transform(X_train)\n",
    "X_test = std_scaler.fit_transform(X_test)"
   ]
  },
  {
   "cell_type": "code",
   "execution_count": 21,
   "id": "84951cc9",
   "metadata": {},
   "outputs": [],
   "source": [
    "# Initialising the ANN\n",
    "classifier = Sequential()"
   ]
  },
  {
   "cell_type": "code",
   "execution_count": 26,
   "id": "af7da601",
   "metadata": {},
   "outputs": [],
   "source": [
    "# Adding the input layer and the first hidden layer\n",
    "classifier.add(Dense( units = \n",
    "                     6, kernel_initializer='he_uniform',activation='relu',input_dim = 11))\n",
    "classifier.add(Dropout(0.2))"
   ]
  },
  {
   "cell_type": "code",
   "execution_count": 27,
   "id": "1c9ab9c0",
   "metadata": {},
   "outputs": [],
   "source": [
    "# Adding the second hidden layer\n",
    "classifier.add(Dense(units =  6,kernel_initializer='he_uniform',activation='relu'))\n",
    "classifier.add(Dropout(0.3))"
   ]
  },
  {
   "cell_type": "code",
   "execution_count": 28,
   "id": "085a5dff",
   "metadata": {},
   "outputs": [],
   "source": [
    "# Adding the output layer\n",
    "classifier.add(Dense(units = 1, kernel_initializer='glorot_uniform', activation = 'sigmoid'))"
   ]
  },
  {
   "cell_type": "code",
   "execution_count": 29,
   "id": "24d45e49",
   "metadata": {},
   "outputs": [],
   "source": [
    "# Compiling the ANN\n",
    "classifier.compile(optimizer = 'Adamax', loss = 'binary_crossentropy', metrics = ['accuracy'])"
   ]
  },
  {
   "cell_type": "code",
   "execution_count": 30,
   "id": "ae7f6255",
   "metadata": {},
   "outputs": [],
   "source": [
    "import tensorflow as tf\n",
    "EarlyStopping = tf.keras.callbacks.EarlyStopping(\n",
    "    monitor=\"val_loss\",\n",
    "    min_delta=0.0001,\n",
    "    patience=20,\n",
    "    verbose=1,\n",
    "    mode=\"auto\",\n",
    "    baseline=None,\n",
    "    restore_best_weights=False,\n",
    ")"
   ]
  },
  {
   "cell_type": "code",
   "execution_count": 31,
   "id": "aa63b3ed",
   "metadata": {},
   "outputs": [
    {
     "name": "stdout",
     "output_type": "stream",
     "text": [
      "Epoch 1/1000\n",
      "536/536 [==============================] - 4s 4ms/step - loss: 1.0125 - accuracy: 0.5439 - val_loss: 0.5818 - val_accuracy: 0.7770\n",
      "Epoch 2/1000\n",
      "536/536 [==============================] - 2s 3ms/step - loss: 0.6444 - accuracy: 0.7152 - val_loss: 0.5325 - val_accuracy: 0.7955\n",
      "Epoch 3/1000\n",
      "536/536 [==============================] - 1s 3ms/step - loss: 0.5764 - accuracy: 0.7630 - val_loss: 0.5185 - val_accuracy: 0.7955\n",
      "Epoch 4/1000\n",
      "536/536 [==============================] - 1s 3ms/step - loss: 0.5411 - accuracy: 0.7832 - val_loss: 0.5085 - val_accuracy: 0.7955\n",
      "Epoch 5/1000\n",
      "536/536 [==============================] - 1s 3ms/step - loss: 0.5172 - accuracy: 0.7916 - val_loss: 0.5016 - val_accuracy: 0.7955\n",
      "Epoch 6/1000\n",
      "536/536 [==============================] - 1s 3ms/step - loss: 0.5086 - accuracy: 0.7927 - val_loss: 0.4961 - val_accuracy: 0.7955\n",
      "Epoch 7/1000\n",
      "536/536 [==============================] - 1s 3ms/step - loss: 0.4998 - accuracy: 0.7960 - val_loss: 0.4915 - val_accuracy: 0.7955\n",
      "Epoch 8/1000\n",
      "536/536 [==============================] - 1s 3ms/step - loss: 0.4927 - accuracy: 0.7981 - val_loss: 0.4869 - val_accuracy: 0.7955\n",
      "Epoch 9/1000\n",
      "536/536 [==============================] - 1s 3ms/step - loss: 0.4920 - accuracy: 0.7957 - val_loss: 0.4822 - val_accuracy: 0.7955\n",
      "Epoch 10/1000\n",
      "536/536 [==============================] - 2s 3ms/step - loss: 0.4902 - accuracy: 0.7977 - val_loss: 0.4784 - val_accuracy: 0.7959\n",
      "Epoch 11/1000\n",
      "536/536 [==============================] - 2s 3ms/step - loss: 0.4828 - accuracy: 0.8000 - val_loss: 0.4745 - val_accuracy: 0.7959\n",
      "Epoch 12/1000\n",
      "536/536 [==============================] - 2s 3ms/step - loss: 0.4768 - accuracy: 0.8015 - val_loss: 0.4695 - val_accuracy: 0.7959\n",
      "Epoch 13/1000\n",
      "536/536 [==============================] - 2s 3ms/step - loss: 0.4706 - accuracy: 0.8035 - val_loss: 0.4648 - val_accuracy: 0.7967\n",
      "Epoch 14/1000\n",
      "536/536 [==============================] - 2s 4ms/step - loss: 0.4714 - accuracy: 0.8041 - val_loss: 0.4617 - val_accuracy: 0.7974\n",
      "Epoch 15/1000\n",
      "536/536 [==============================] - 2s 3ms/step - loss: 0.4699 - accuracy: 0.8026 - val_loss: 0.4579 - val_accuracy: 0.7986\n",
      "Epoch 16/1000\n",
      "536/536 [==============================] - 1s 3ms/step - loss: 0.4639 - accuracy: 0.8024 - val_loss: 0.4549 - val_accuracy: 0.7986\n",
      "Epoch 17/1000\n",
      "536/536 [==============================] - 1s 3ms/step - loss: 0.4591 - accuracy: 0.8072 - val_loss: 0.4519 - val_accuracy: 0.8008\n",
      "Epoch 18/1000\n",
      "536/536 [==============================] - 1s 3ms/step - loss: 0.4539 - accuracy: 0.8093 - val_loss: 0.4478 - val_accuracy: 0.8058\n",
      "Epoch 19/1000\n",
      "536/536 [==============================] - 2s 3ms/step - loss: 0.4571 - accuracy: 0.8093 - val_loss: 0.4455 - val_accuracy: 0.8058\n",
      "Epoch 20/1000\n",
      "536/536 [==============================] - 2s 3ms/step - loss: 0.4509 - accuracy: 0.8063 - val_loss: 0.4429 - val_accuracy: 0.8069\n",
      "Epoch 21/1000\n",
      "536/536 [==============================] - 2s 3ms/step - loss: 0.4412 - accuracy: 0.8104 - val_loss: 0.4388 - val_accuracy: 0.8099\n",
      "Epoch 22/1000\n",
      "536/536 [==============================] - 2s 3ms/step - loss: 0.4418 - accuracy: 0.8091 - val_loss: 0.4362 - val_accuracy: 0.8103\n",
      "Epoch 23/1000\n",
      "536/536 [==============================] - 2s 3ms/step - loss: 0.4406 - accuracy: 0.8138 - val_loss: 0.4334 - val_accuracy: 0.8118\n",
      "Epoch 24/1000\n",
      "536/536 [==============================] - 2s 4ms/step - loss: 0.4377 - accuracy: 0.8119 - val_loss: 0.4315 - val_accuracy: 0.8114\n",
      "Epoch 25/1000\n",
      "536/536 [==============================] - 2s 3ms/step - loss: 0.4339 - accuracy: 0.8134 - val_loss: 0.4293 - val_accuracy: 0.8129\n",
      "Epoch 26/1000\n",
      "536/536 [==============================] - 2s 3ms/step - loss: 0.4323 - accuracy: 0.8149 - val_loss: 0.4278 - val_accuracy: 0.8137\n",
      "Epoch 27/1000\n",
      "536/536 [==============================] - 1s 3ms/step - loss: 0.4251 - accuracy: 0.8182 - val_loss: 0.4253 - val_accuracy: 0.8145\n",
      "Epoch 28/1000\n",
      "536/536 [==============================] - 1s 3ms/step - loss: 0.4332 - accuracy: 0.8158 - val_loss: 0.4228 - val_accuracy: 0.8160\n",
      "Epoch 29/1000\n",
      "536/536 [==============================] - 2s 3ms/step - loss: 0.4298 - accuracy: 0.8147 - val_loss: 0.4215 - val_accuracy: 0.8156\n",
      "Epoch 30/1000\n",
      "536/536 [==============================] - 2s 3ms/step - loss: 0.4281 - accuracy: 0.8138 - val_loss: 0.4194 - val_accuracy: 0.8175\n",
      "Epoch 31/1000\n",
      "536/536 [==============================] - 2s 3ms/step - loss: 0.4247 - accuracy: 0.8173 - val_loss: 0.4171 - val_accuracy: 0.8190\n",
      "Epoch 32/1000\n",
      "536/536 [==============================] - 2s 3ms/step - loss: 0.4173 - accuracy: 0.8225 - val_loss: 0.4148 - val_accuracy: 0.8201\n",
      "Epoch 33/1000\n",
      "536/536 [==============================] - 2s 3ms/step - loss: 0.4151 - accuracy: 0.8240 - val_loss: 0.4124 - val_accuracy: 0.8205\n",
      "Epoch 34/1000\n",
      "536/536 [==============================] - 1s 3ms/step - loss: 0.4213 - accuracy: 0.8192 - val_loss: 0.4108 - val_accuracy: 0.8209\n",
      "Epoch 35/1000\n",
      "536/536 [==============================] - 1s 3ms/step - loss: 0.4197 - accuracy: 0.8242 - val_loss: 0.4093 - val_accuracy: 0.8217\n",
      "Epoch 36/1000\n",
      "536/536 [==============================] - 1s 3ms/step - loss: 0.4143 - accuracy: 0.8253 - val_loss: 0.4079 - val_accuracy: 0.8239\n",
      "Epoch 37/1000\n",
      "536/536 [==============================] - 2s 4ms/step - loss: 0.4132 - accuracy: 0.8218 - val_loss: 0.4084 - val_accuracy: 0.8224\n",
      "Epoch 38/1000\n",
      "536/536 [==============================] - 2s 4ms/step - loss: 0.4160 - accuracy: 0.8278 - val_loss: 0.4059 - val_accuracy: 0.8239\n",
      "Epoch 39/1000\n",
      "536/536 [==============================] - 2s 4ms/step - loss: 0.4149 - accuracy: 0.8237 - val_loss: 0.4051 - val_accuracy: 0.8239\n",
      "Epoch 40/1000\n",
      "536/536 [==============================] - 2s 3ms/step - loss: 0.4079 - accuracy: 0.8296 - val_loss: 0.4038 - val_accuracy: 0.8266\n",
      "Epoch 41/1000\n",
      "536/536 [==============================] - 2s 3ms/step - loss: 0.4104 - accuracy: 0.8278 - val_loss: 0.4036 - val_accuracy: 0.8258\n",
      "Epoch 42/1000\n",
      "536/536 [==============================] - 2s 3ms/step - loss: 0.4093 - accuracy: 0.8280 - val_loss: 0.4022 - val_accuracy: 0.8304\n",
      "Epoch 43/1000\n",
      "536/536 [==============================] - 1s 3ms/step - loss: 0.4075 - accuracy: 0.8246 - val_loss: 0.4016 - val_accuracy: 0.8296\n",
      "Epoch 44/1000\n",
      "536/536 [==============================] - 2s 3ms/step - loss: 0.4059 - accuracy: 0.8308 - val_loss: 0.4011 - val_accuracy: 0.8292\n",
      "Epoch 45/1000\n",
      "536/536 [==============================] - 2s 3ms/step - loss: 0.4015 - accuracy: 0.8266 - val_loss: 0.3997 - val_accuracy: 0.8311\n",
      "Epoch 46/1000\n",
      "536/536 [==============================] - 2s 3ms/step - loss: 0.4002 - accuracy: 0.8322 - val_loss: 0.3982 - val_accuracy: 0.8319\n",
      "Epoch 47/1000\n",
      "536/536 [==============================] - 2s 3ms/step - loss: 0.4073 - accuracy: 0.8324 - val_loss: 0.3981 - val_accuracy: 0.8315\n",
      "Epoch 48/1000\n",
      "536/536 [==============================] - 2s 3ms/step - loss: 0.3987 - accuracy: 0.8317 - val_loss: 0.3969 - val_accuracy: 0.8323\n",
      "Epoch 49/1000\n",
      "536/536 [==============================] - 2s 4ms/step - loss: 0.4005 - accuracy: 0.8263 - val_loss: 0.3963 - val_accuracy: 0.8330\n",
      "Epoch 50/1000\n",
      "536/536 [==============================] - 2s 4ms/step - loss: 0.3957 - accuracy: 0.8367 - val_loss: 0.3943 - val_accuracy: 0.8353\n",
      "Epoch 51/1000\n",
      "536/536 [==============================] - 2s 3ms/step - loss: 0.3983 - accuracy: 0.8324 - val_loss: 0.3942 - val_accuracy: 0.8349\n",
      "Epoch 52/1000\n",
      "536/536 [==============================] - 1s 3ms/step - loss: 0.3927 - accuracy: 0.8345 - val_loss: 0.3916 - val_accuracy: 0.8376\n",
      "Epoch 53/1000\n",
      "536/536 [==============================] - 1s 3ms/step - loss: 0.3971 - accuracy: 0.8356 - val_loss: 0.3911 - val_accuracy: 0.8383\n",
      "Epoch 54/1000\n",
      "536/536 [==============================] - 1s 3ms/step - loss: 0.3941 - accuracy: 0.8358 - val_loss: 0.3903 - val_accuracy: 0.8391\n",
      "Epoch 55/1000\n",
      "536/536 [==============================] - 2s 3ms/step - loss: 0.3913 - accuracy: 0.8390 - val_loss: 0.3894 - val_accuracy: 0.8398\n",
      "Epoch 56/1000\n",
      "536/536 [==============================] - 1s 3ms/step - loss: 0.3969 - accuracy: 0.8311 - val_loss: 0.3892 - val_accuracy: 0.8413\n",
      "Epoch 57/1000\n"
     ]
    },
    {
     "name": "stdout",
     "output_type": "stream",
     "text": [
      "536/536 [==============================] - 2s 3ms/step - loss: 0.3943 - accuracy: 0.8356 - val_loss: 0.3890 - val_accuracy: 0.8425\n",
      "Epoch 58/1000\n",
      "536/536 [==============================] - 2s 3ms/step - loss: 0.3912 - accuracy: 0.8350 - val_loss: 0.3877 - val_accuracy: 0.8429\n",
      "Epoch 59/1000\n",
      "536/536 [==============================] - 2s 3ms/step - loss: 0.3831 - accuracy: 0.8434 - val_loss: 0.3864 - val_accuracy: 0.8413\n",
      "Epoch 60/1000\n",
      "536/536 [==============================] - 2s 3ms/step - loss: 0.3877 - accuracy: 0.8408 - val_loss: 0.3864 - val_accuracy: 0.8417\n",
      "Epoch 61/1000\n",
      "536/536 [==============================] - 2s 3ms/step - loss: 0.3887 - accuracy: 0.8356 - val_loss: 0.3867 - val_accuracy: 0.8421\n",
      "Epoch 62/1000\n",
      "536/536 [==============================] - 2s 3ms/step - loss: 0.3834 - accuracy: 0.8418 - val_loss: 0.3865 - val_accuracy: 0.8429\n",
      "Epoch 63/1000\n",
      "536/536 [==============================] - 2s 4ms/step - loss: 0.3853 - accuracy: 0.8360 - val_loss: 0.3855 - val_accuracy: 0.8429\n",
      "Epoch 64/1000\n",
      "536/536 [==============================] - 2s 4ms/step - loss: 0.3805 - accuracy: 0.8431 - val_loss: 0.3844 - val_accuracy: 0.8432\n",
      "Epoch 65/1000\n",
      "536/536 [==============================] - 2s 3ms/step - loss: 0.3775 - accuracy: 0.8419 - val_loss: 0.3838 - val_accuracy: 0.8448\n",
      "Epoch 66/1000\n",
      "536/536 [==============================] - 2s 3ms/step - loss: 0.3849 - accuracy: 0.8391 - val_loss: 0.3835 - val_accuracy: 0.8448\n",
      "Epoch 67/1000\n",
      "536/536 [==============================] - 2s 3ms/step - loss: 0.3884 - accuracy: 0.8352 - val_loss: 0.3839 - val_accuracy: 0.8432\n",
      "Epoch 68/1000\n",
      "536/536 [==============================] - 2s 3ms/step - loss: 0.3805 - accuracy: 0.8451 - val_loss: 0.3830 - val_accuracy: 0.8451\n",
      "Epoch 69/1000\n",
      "536/536 [==============================] - 2s 3ms/step - loss: 0.3848 - accuracy: 0.8447 - val_loss: 0.3822 - val_accuracy: 0.8451\n",
      "Epoch 70/1000\n",
      "536/536 [==============================] - 1s 3ms/step - loss: 0.3858 - accuracy: 0.8380 - val_loss: 0.3832 - val_accuracy: 0.8448\n",
      "Epoch 71/1000\n",
      "536/536 [==============================] - 1s 3ms/step - loss: 0.3829 - accuracy: 0.8449 - val_loss: 0.3826 - val_accuracy: 0.8455\n",
      "Epoch 72/1000\n",
      "536/536 [==============================] - 1s 3ms/step - loss: 0.3814 - accuracy: 0.8436 - val_loss: 0.3821 - val_accuracy: 0.8451\n",
      "Epoch 73/1000\n",
      "536/536 [==============================] - 2s 3ms/step - loss: 0.3844 - accuracy: 0.8395 - val_loss: 0.3816 - val_accuracy: 0.8448\n",
      "Epoch 74/1000\n",
      "536/536 [==============================] - 2s 3ms/step - loss: 0.3803 - accuracy: 0.8433 - val_loss: 0.3815 - val_accuracy: 0.8444\n",
      "Epoch 75/1000\n",
      "536/536 [==============================] - 1s 3ms/step - loss: 0.3868 - accuracy: 0.8406 - val_loss: 0.3817 - val_accuracy: 0.8440\n",
      "Epoch 76/1000\n",
      "536/536 [==============================] - 2s 3ms/step - loss: 0.3827 - accuracy: 0.8425 - val_loss: 0.3813 - val_accuracy: 0.8440\n",
      "Epoch 77/1000\n",
      "536/536 [==============================] - 2s 4ms/step - loss: 0.3823 - accuracy: 0.8427 - val_loss: 0.3801 - val_accuracy: 0.8440\n",
      "Epoch 78/1000\n",
      "536/536 [==============================] - 2s 4ms/step - loss: 0.3844 - accuracy: 0.8395 - val_loss: 0.3799 - val_accuracy: 0.8444\n",
      "Epoch 79/1000\n",
      "536/536 [==============================] - 2s 3ms/step - loss: 0.3810 - accuracy: 0.8423 - val_loss: 0.3807 - val_accuracy: 0.8432\n",
      "Epoch 80/1000\n",
      "536/536 [==============================] - 2s 3ms/step - loss: 0.3791 - accuracy: 0.8410 - val_loss: 0.3797 - val_accuracy: 0.8448\n",
      "Epoch 81/1000\n",
      "536/536 [==============================] - 2s 3ms/step - loss: 0.3823 - accuracy: 0.8442 - val_loss: 0.3793 - val_accuracy: 0.8448\n",
      "Epoch 82/1000\n",
      "536/536 [==============================] - 2s 3ms/step - loss: 0.3833 - accuracy: 0.8386 - val_loss: 0.3790 - val_accuracy: 0.8444\n",
      "Epoch 83/1000\n",
      "536/536 [==============================] - 3s 5ms/step - loss: 0.3750 - accuracy: 0.8447 - val_loss: 0.3801 - val_accuracy: 0.8444\n",
      "Epoch 84/1000\n",
      "536/536 [==============================] - 2s 4ms/step - loss: 0.3766 - accuracy: 0.8442 - val_loss: 0.3791 - val_accuracy: 0.8451\n",
      "Epoch 85/1000\n",
      "536/536 [==============================] - 2s 4ms/step - loss: 0.3862 - accuracy: 0.8433 - val_loss: 0.3794 - val_accuracy: 0.8459\n",
      "Epoch 86/1000\n",
      "536/536 [==============================] - 2s 3ms/step - loss: 0.3807 - accuracy: 0.8410 - val_loss: 0.3787 - val_accuracy: 0.8448\n",
      "Epoch 87/1000\n",
      "536/536 [==============================] - 2s 4ms/step - loss: 0.3750 - accuracy: 0.8433 - val_loss: 0.3790 - val_accuracy: 0.8444\n",
      "Epoch 88/1000\n",
      "536/536 [==============================] - 2s 3ms/step - loss: 0.3755 - accuracy: 0.8453 - val_loss: 0.3794 - val_accuracy: 0.8440\n",
      "Epoch 89/1000\n",
      "536/536 [==============================] - 1s 3ms/step - loss: 0.3819 - accuracy: 0.8434 - val_loss: 0.3789 - val_accuracy: 0.8432\n",
      "Epoch 90/1000\n",
      "536/536 [==============================] - 2s 4ms/step - loss: 0.3798 - accuracy: 0.8384 - val_loss: 0.3787 - val_accuracy: 0.8432\n",
      "Epoch 91/1000\n",
      "536/536 [==============================] - 2s 3ms/step - loss: 0.3707 - accuracy: 0.8470 - val_loss: 0.3784 - val_accuracy: 0.8444\n",
      "Epoch 92/1000\n",
      "536/536 [==============================] - 1s 3ms/step - loss: 0.3762 - accuracy: 0.8451 - val_loss: 0.3780 - val_accuracy: 0.8451\n",
      "Epoch 93/1000\n",
      "536/536 [==============================] - 2s 3ms/step - loss: 0.3780 - accuracy: 0.8464 - val_loss: 0.3783 - val_accuracy: 0.8436\n",
      "Epoch 94/1000\n",
      "536/536 [==============================] - 2s 3ms/step - loss: 0.3798 - accuracy: 0.8447 - val_loss: 0.3779 - val_accuracy: 0.8436\n",
      "Epoch 95/1000\n",
      "536/536 [==============================] - 2s 4ms/step - loss: 0.3733 - accuracy: 0.8453 - val_loss: 0.3774 - val_accuracy: 0.8448\n",
      "Epoch 96/1000\n",
      "536/536 [==============================] - 2s 4ms/step - loss: 0.3832 - accuracy: 0.8431 - val_loss: 0.3774 - val_accuracy: 0.8440\n",
      "Epoch 97/1000\n",
      "536/536 [==============================] - 2s 3ms/step - loss: 0.3792 - accuracy: 0.8470 - val_loss: 0.3771 - val_accuracy: 0.8440\n",
      "Epoch 98/1000\n",
      "536/536 [==============================] - 1s 3ms/step - loss: 0.3783 - accuracy: 0.8442 - val_loss: 0.3774 - val_accuracy: 0.8448\n",
      "Epoch 99/1000\n",
      "536/536 [==============================] - 1s 3ms/step - loss: 0.3732 - accuracy: 0.8468 - val_loss: 0.3766 - val_accuracy: 0.8455\n",
      "Epoch 100/1000\n",
      "536/536 [==============================] - 2s 3ms/step - loss: 0.3787 - accuracy: 0.8447 - val_loss: 0.3771 - val_accuracy: 0.8444\n",
      "Epoch 101/1000\n",
      "536/536 [==============================] - 2s 4ms/step - loss: 0.3732 - accuracy: 0.8477 - val_loss: 0.3767 - val_accuracy: 0.8459\n",
      "Epoch 102/1000\n",
      "536/536 [==============================] - 2s 3ms/step - loss: 0.3731 - accuracy: 0.8464 - val_loss: 0.3767 - val_accuracy: 0.8451\n",
      "Epoch 103/1000\n",
      "536/536 [==============================] - 2s 4ms/step - loss: 0.3697 - accuracy: 0.8433 - val_loss: 0.3756 - val_accuracy: 0.8455\n",
      "Epoch 104/1000\n",
      "536/536 [==============================] - 2s 3ms/step - loss: 0.3723 - accuracy: 0.8461 - val_loss: 0.3766 - val_accuracy: 0.8444\n",
      "Epoch 105/1000\n",
      "536/536 [==============================] - 2s 4ms/step - loss: 0.3813 - accuracy: 0.8466 - val_loss: 0.3768 - val_accuracy: 0.8436\n",
      "Epoch 106/1000\n",
      "536/536 [==============================] - 2s 3ms/step - loss: 0.3760 - accuracy: 0.8461 - val_loss: 0.3765 - val_accuracy: 0.8440\n",
      "Epoch 107/1000\n",
      "536/536 [==============================] - 2s 3ms/step - loss: 0.3765 - accuracy: 0.8461 - val_loss: 0.3777 - val_accuracy: 0.8429\n",
      "Epoch 108/1000\n",
      "536/536 [==============================] - 2s 3ms/step - loss: 0.3784 - accuracy: 0.8436 - val_loss: 0.3763 - val_accuracy: 0.8451\n",
      "Epoch 109/1000\n",
      "536/536 [==============================] - 2s 3ms/step - loss: 0.3761 - accuracy: 0.8423 - val_loss: 0.3769 - val_accuracy: 0.8440\n",
      "Epoch 110/1000\n",
      "536/536 [==============================] - 2s 3ms/step - loss: 0.3696 - accuracy: 0.8509 - val_loss: 0.3760 - val_accuracy: 0.8455\n",
      "Epoch 111/1000\n",
      "536/536 [==============================] - 2s 3ms/step - loss: 0.3743 - accuracy: 0.8447 - val_loss: 0.3755 - val_accuracy: 0.8455\n",
      "Epoch 112/1000\n",
      "536/536 [==============================] - 2s 4ms/step - loss: 0.3753 - accuracy: 0.8464 - val_loss: 0.3756 - val_accuracy: 0.8451\n",
      "Epoch 113/1000\n"
     ]
    },
    {
     "name": "stdout",
     "output_type": "stream",
     "text": [
      "536/536 [==============================] - 2s 3ms/step - loss: 0.3791 - accuracy: 0.8455 - val_loss: 0.3765 - val_accuracy: 0.8432\n",
      "Epoch 114/1000\n",
      "536/536 [==============================] - 2s 4ms/step - loss: 0.3755 - accuracy: 0.8489 - val_loss: 0.3754 - val_accuracy: 0.8459\n",
      "Epoch 115/1000\n",
      "536/536 [==============================] - 2s 3ms/step - loss: 0.3748 - accuracy: 0.8444 - val_loss: 0.3755 - val_accuracy: 0.8455\n",
      "Epoch 116/1000\n",
      "536/536 [==============================] - 2s 3ms/step - loss: 0.3762 - accuracy: 0.8451 - val_loss: 0.3749 - val_accuracy: 0.8459\n",
      "Epoch 117/1000\n",
      "536/536 [==============================] - 2s 3ms/step - loss: 0.3802 - accuracy: 0.8446 - val_loss: 0.3755 - val_accuracy: 0.8448\n",
      "Epoch 118/1000\n",
      "536/536 [==============================] - 2s 3ms/step - loss: 0.3741 - accuracy: 0.8481 - val_loss: 0.3752 - val_accuracy: 0.8444\n",
      "Epoch 119/1000\n",
      "536/536 [==============================] - 2s 3ms/step - loss: 0.3715 - accuracy: 0.8485 - val_loss: 0.3757 - val_accuracy: 0.8444\n",
      "Epoch 120/1000\n",
      "536/536 [==============================] - 2s 3ms/step - loss: 0.3715 - accuracy: 0.8466 - val_loss: 0.3763 - val_accuracy: 0.8444\n",
      "Epoch 121/1000\n",
      "536/536 [==============================] - 2s 3ms/step - loss: 0.3722 - accuracy: 0.8490 - val_loss: 0.3753 - val_accuracy: 0.8440\n",
      "Epoch 122/1000\n",
      "536/536 [==============================] - 2s 3ms/step - loss: 0.3735 - accuracy: 0.8489 - val_loss: 0.3757 - val_accuracy: 0.8448\n",
      "Epoch 123/1000\n",
      "536/536 [==============================] - 2s 3ms/step - loss: 0.3747 - accuracy: 0.8459 - val_loss: 0.3763 - val_accuracy: 0.8455\n",
      "Epoch 124/1000\n",
      "536/536 [==============================] - 2s 3ms/step - loss: 0.3734 - accuracy: 0.8474 - val_loss: 0.3754 - val_accuracy: 0.8440\n",
      "Epoch 125/1000\n",
      "536/536 [==============================] - 2s 3ms/step - loss: 0.3757 - accuracy: 0.8459 - val_loss: 0.3750 - val_accuracy: 0.8436\n",
      "Epoch 126/1000\n",
      "536/536 [==============================] - 2s 3ms/step - loss: 0.3758 - accuracy: 0.8442 - val_loss: 0.3746 - val_accuracy: 0.8436\n",
      "Epoch 127/1000\n",
      "536/536 [==============================] - 1s 3ms/step - loss: 0.3762 - accuracy: 0.8500 - val_loss: 0.3747 - val_accuracy: 0.8436\n",
      "Epoch 128/1000\n",
      "536/536 [==============================] - 2s 3ms/step - loss: 0.3769 - accuracy: 0.8433 - val_loss: 0.3750 - val_accuracy: 0.8444\n",
      "Epoch 129/1000\n",
      "536/536 [==============================] - 2s 3ms/step - loss: 0.3725 - accuracy: 0.8434 - val_loss: 0.3751 - val_accuracy: 0.8444\n",
      "Epoch 130/1000\n",
      "536/536 [==============================] - 1s 3ms/step - loss: 0.3756 - accuracy: 0.8449 - val_loss: 0.3741 - val_accuracy: 0.8444\n",
      "Epoch 131/1000\n",
      "536/536 [==============================] - 2s 3ms/step - loss: 0.3749 - accuracy: 0.8475 - val_loss: 0.3739 - val_accuracy: 0.8455\n",
      "Epoch 132/1000\n",
      "536/536 [==============================] - 2s 3ms/step - loss: 0.3770 - accuracy: 0.8447 - val_loss: 0.3754 - val_accuracy: 0.8448\n",
      "Epoch 133/1000\n",
      "536/536 [==============================] - 2s 4ms/step - loss: 0.3728 - accuracy: 0.8457 - val_loss: 0.3751 - val_accuracy: 0.8451\n",
      "Epoch 134/1000\n",
      "536/536 [==============================] - 2s 4ms/step - loss: 0.3698 - accuracy: 0.8502 - val_loss: 0.3738 - val_accuracy: 0.8459\n",
      "Epoch 135/1000\n",
      "536/536 [==============================] - 2s 3ms/step - loss: 0.3752 - accuracy: 0.8474 - val_loss: 0.3738 - val_accuracy: 0.8448\n",
      "Epoch 136/1000\n",
      "536/536 [==============================] - 2s 3ms/step - loss: 0.3768 - accuracy: 0.8464 - val_loss: 0.3740 - val_accuracy: 0.8451\n",
      "Epoch 137/1000\n",
      "536/536 [==============================] - 2s 4ms/step - loss: 0.3692 - accuracy: 0.8517 - val_loss: 0.3748 - val_accuracy: 0.8455\n",
      "Epoch 138/1000\n",
      "536/536 [==============================] - 3s 5ms/step - loss: 0.3713 - accuracy: 0.8474 - val_loss: 0.3747 - val_accuracy: 0.8455\n",
      "Epoch 139/1000\n",
      "536/536 [==============================] - 2s 4ms/step - loss: 0.3781 - accuracy: 0.8474 - val_loss: 0.3747 - val_accuracy: 0.8459\n",
      "Epoch 140/1000\n",
      "536/536 [==============================] - 2s 4ms/step - loss: 0.3675 - accuracy: 0.8492 - val_loss: 0.3741 - val_accuracy: 0.8451\n",
      "Epoch 141/1000\n",
      "536/536 [==============================] - 2s 4ms/step - loss: 0.3785 - accuracy: 0.8431 - val_loss: 0.3758 - val_accuracy: 0.8436\n",
      "Epoch 142/1000\n",
      "536/536 [==============================] - 2s 4ms/step - loss: 0.3715 - accuracy: 0.8475 - val_loss: 0.3747 - val_accuracy: 0.8451\n",
      "Epoch 143/1000\n",
      "536/536 [==============================] - 2s 3ms/step - loss: 0.3721 - accuracy: 0.8446 - val_loss: 0.3737 - val_accuracy: 0.8466\n",
      "Epoch 144/1000\n",
      "536/536 [==============================] - 2s 3ms/step - loss: 0.3681 - accuracy: 0.8500 - val_loss: 0.3741 - val_accuracy: 0.8459\n",
      "Epoch 145/1000\n",
      "536/536 [==============================] - 2s 3ms/step - loss: 0.3724 - accuracy: 0.8505 - val_loss: 0.3737 - val_accuracy: 0.8459\n",
      "Epoch 146/1000\n",
      "536/536 [==============================] - 2s 3ms/step - loss: 0.3769 - accuracy: 0.8511 - val_loss: 0.3750 - val_accuracy: 0.8448\n",
      "Epoch 147/1000\n",
      "536/536 [==============================] - 2s 3ms/step - loss: 0.3785 - accuracy: 0.8433 - val_loss: 0.3738 - val_accuracy: 0.8466\n",
      "Epoch 148/1000\n",
      "536/536 [==============================] - 2s 4ms/step - loss: 0.3737 - accuracy: 0.8464 - val_loss: 0.3741 - val_accuracy: 0.8455\n",
      "Epoch 149/1000\n",
      "536/536 [==============================] - 2s 3ms/step - loss: 0.3720 - accuracy: 0.8481 - val_loss: 0.3743 - val_accuracy: 0.8459\n",
      "Epoch 150/1000\n",
      "536/536 [==============================] - 2s 4ms/step - loss: 0.3724 - accuracy: 0.8487 - val_loss: 0.3735 - val_accuracy: 0.8455\n",
      "Epoch 151/1000\n",
      "536/536 [==============================] - 2s 3ms/step - loss: 0.3760 - accuracy: 0.8449 - val_loss: 0.3733 - val_accuracy: 0.8455\n",
      "Epoch 152/1000\n",
      "536/536 [==============================] - 1s 3ms/step - loss: 0.3693 - accuracy: 0.8481 - val_loss: 0.3735 - val_accuracy: 0.8463\n",
      "Epoch 153/1000\n",
      "536/536 [==============================] - 1s 3ms/step - loss: 0.3709 - accuracy: 0.8468 - val_loss: 0.3729 - val_accuracy: 0.8459\n",
      "Epoch 154/1000\n",
      "536/536 [==============================] - 1s 3ms/step - loss: 0.3706 - accuracy: 0.8485 - val_loss: 0.3731 - val_accuracy: 0.8459\n",
      "Epoch 155/1000\n",
      "536/536 [==============================] - 1s 3ms/step - loss: 0.3701 - accuracy: 0.8462 - val_loss: 0.3739 - val_accuracy: 0.8444\n",
      "Epoch 156/1000\n",
      "536/536 [==============================] - 1s 3ms/step - loss: 0.3698 - accuracy: 0.8479 - val_loss: 0.3744 - val_accuracy: 0.8440\n",
      "Epoch 157/1000\n",
      "536/536 [==============================] - 2s 3ms/step - loss: 0.3661 - accuracy: 0.8500 - val_loss: 0.3747 - val_accuracy: 0.8436\n",
      "Epoch 158/1000\n",
      "536/536 [==============================] - 2s 3ms/step - loss: 0.3775 - accuracy: 0.8453 - val_loss: 0.3740 - val_accuracy: 0.8444\n",
      "Epoch 159/1000\n",
      "536/536 [==============================] - 2s 4ms/step - loss: 0.3669 - accuracy: 0.8470 - val_loss: 0.3736 - val_accuracy: 0.8463\n",
      "Epoch 160/1000\n",
      "536/536 [==============================] - 2s 3ms/step - loss: 0.3703 - accuracy: 0.8483 - val_loss: 0.3737 - val_accuracy: 0.8451\n",
      "Epoch 161/1000\n",
      "536/536 [==============================] - 2s 3ms/step - loss: 0.3773 - accuracy: 0.8481 - val_loss: 0.3744 - val_accuracy: 0.8440\n",
      "Epoch 162/1000\n",
      "536/536 [==============================] - 2s 3ms/step - loss: 0.3686 - accuracy: 0.8487 - val_loss: 0.3729 - val_accuracy: 0.8455\n",
      "Epoch 163/1000\n",
      "536/536 [==============================] - 1s 3ms/step - loss: 0.3775 - accuracy: 0.8444 - val_loss: 0.3736 - val_accuracy: 0.8444\n",
      "Epoch 164/1000\n",
      "536/536 [==============================] - 1s 3ms/step - loss: 0.3712 - accuracy: 0.8474 - val_loss: 0.3734 - val_accuracy: 0.8440\n",
      "Epoch 165/1000\n",
      "536/536 [==============================] - 1s 3ms/step - loss: 0.3746 - accuracy: 0.8468 - val_loss: 0.3725 - val_accuracy: 0.8459\n",
      "Epoch 166/1000\n",
      "536/536 [==============================] - 1s 3ms/step - loss: 0.3703 - accuracy: 0.8485 - val_loss: 0.3728 - val_accuracy: 0.8451\n",
      "Epoch 167/1000\n",
      "536/536 [==============================] - 2s 3ms/step - loss: 0.3730 - accuracy: 0.8475 - val_loss: 0.3727 - val_accuracy: 0.8455\n",
      "Epoch 168/1000\n",
      "536/536 [==============================] - 2s 3ms/step - loss: 0.3675 - accuracy: 0.8483 - val_loss: 0.3726 - val_accuracy: 0.8451\n",
      "Epoch 169/1000\n"
     ]
    },
    {
     "name": "stdout",
     "output_type": "stream",
     "text": [
      "536/536 [==============================] - 2s 3ms/step - loss: 0.3697 - accuracy: 0.8524 - val_loss: 0.3730 - val_accuracy: 0.8455\n",
      "Epoch 170/1000\n",
      "536/536 [==============================] - 2s 3ms/step - loss: 0.3698 - accuracy: 0.8524 - val_loss: 0.3722 - val_accuracy: 0.8448\n",
      "Epoch 171/1000\n",
      "536/536 [==============================] - 1s 3ms/step - loss: 0.3755 - accuracy: 0.8464 - val_loss: 0.3729 - val_accuracy: 0.8451\n",
      "Epoch 172/1000\n",
      "536/536 [==============================] - 1s 3ms/step - loss: 0.3682 - accuracy: 0.8492 - val_loss: 0.3729 - val_accuracy: 0.8444\n",
      "Epoch 173/1000\n",
      "536/536 [==============================] - 1s 3ms/step - loss: 0.3716 - accuracy: 0.8451 - val_loss: 0.3733 - val_accuracy: 0.8448\n",
      "Epoch 174/1000\n",
      "536/536 [==============================] - 1s 3ms/step - loss: 0.3743 - accuracy: 0.8461 - val_loss: 0.3729 - val_accuracy: 0.8440\n",
      "Epoch 175/1000\n",
      "536/536 [==============================] - 1s 3ms/step - loss: 0.3716 - accuracy: 0.8474 - val_loss: 0.3733 - val_accuracy: 0.8444\n",
      "Epoch 176/1000\n",
      "536/536 [==============================] - 2s 3ms/step - loss: 0.3679 - accuracy: 0.8447 - val_loss: 0.3727 - val_accuracy: 0.8440\n",
      "Epoch 177/1000\n",
      "536/536 [==============================] - 2s 4ms/step - loss: 0.3639 - accuracy: 0.8546 - val_loss: 0.3723 - val_accuracy: 0.8444\n",
      "Epoch 178/1000\n",
      "536/536 [==============================] - 2s 4ms/step - loss: 0.3723 - accuracy: 0.8475 - val_loss: 0.3732 - val_accuracy: 0.8444\n",
      "Epoch 179/1000\n",
      "536/536 [==============================] - 2s 3ms/step - loss: 0.3711 - accuracy: 0.8474 - val_loss: 0.3728 - val_accuracy: 0.8451\n",
      "Epoch 180/1000\n",
      "536/536 [==============================] - 2s 3ms/step - loss: 0.3693 - accuracy: 0.8494 - val_loss: 0.3731 - val_accuracy: 0.8451\n",
      "Epoch 181/1000\n",
      "536/536 [==============================] - 1s 3ms/step - loss: 0.3688 - accuracy: 0.8494 - val_loss: 0.3730 - val_accuracy: 0.8448\n",
      "Epoch 182/1000\n",
      "536/536 [==============================] - 1s 3ms/step - loss: 0.3714 - accuracy: 0.8487 - val_loss: 0.3732 - val_accuracy: 0.8440\n",
      "Epoch 183/1000\n",
      "536/536 [==============================] - 1s 3ms/step - loss: 0.3688 - accuracy: 0.8500 - val_loss: 0.3735 - val_accuracy: 0.8440\n",
      "Epoch 184/1000\n",
      "536/536 [==============================] - 1s 3ms/step - loss: 0.3655 - accuracy: 0.8492 - val_loss: 0.3731 - val_accuracy: 0.8455\n",
      "Epoch 185/1000\n",
      "536/536 [==============================] - 1s 3ms/step - loss: 0.3681 - accuracy: 0.8505 - val_loss: 0.3741 - val_accuracy: 0.8436\n",
      "Epoch 186/1000\n",
      "536/536 [==============================] - 1s 3ms/step - loss: 0.3728 - accuracy: 0.8451 - val_loss: 0.3736 - val_accuracy: 0.8440\n",
      "Epoch 187/1000\n",
      "536/536 [==============================] - 1s 3ms/step - loss: 0.3733 - accuracy: 0.8503 - val_loss: 0.3740 - val_accuracy: 0.8436\n",
      "Epoch 188/1000\n",
      "536/536 [==============================] - 2s 3ms/step - loss: 0.3664 - accuracy: 0.8503 - val_loss: 0.3731 - val_accuracy: 0.8448\n",
      "Epoch 189/1000\n",
      "536/536 [==============================] - 2s 3ms/step - loss: 0.3678 - accuracy: 0.8475 - val_loss: 0.3733 - val_accuracy: 0.8448\n",
      "Epoch 190/1000\n",
      "536/536 [==============================] - 2s 4ms/step - loss: 0.3650 - accuracy: 0.8517 - val_loss: 0.3728 - val_accuracy: 0.8463\n",
      "Epoch 190: early stopping\n"
     ]
    }
   ],
   "source": [
    "# Fitting the ANN to the Training set\n",
    "model_history=classifier.fit(X_train, y_train,validation_split=0.33, batch_size = 10, epochs = 1000,callbacks =EarlyStopping )"
   ]
  },
  {
   "cell_type": "code",
   "execution_count": 32,
   "id": "0e95d110",
   "metadata": {},
   "outputs": [
    {
     "name": "stdout",
     "output_type": "stream",
     "text": [
      "dict_keys(['loss', 'accuracy', 'val_loss', 'val_accuracy'])\n"
     ]
    },
    {
     "data": {
      "image/png": "[encoded data removed]",
      "text/plain": [
       "<Figure size 432x288 with 1 Axes>"
      ]
     },
     "metadata": {
      "needs_background": "light"
     },
     "output_type": "display_data"
    }
   ],
   "source": [
    "# list all data in history\n",
    "\n",
    "print(model_history.history.keys())\n",
    "# summarize history for accuracy\n",
    "plt.plot(model_history.history['accuracy'])\n",
    "plt.plot(model_history.history['val_accuracy'])\n",
    "plt.title('model accuracy')\n",
    "plt.ylabel('accuracy')\n",
    "plt.xlabel('epoch')\n",
    "plt.legend(['train', 'test'], loc='upper left')\n",
    "plt.show()"
   ]
  },
  {
   "cell_type": "code",
   "execution_count": 33,
   "id": "9911bc92",
   "metadata": {},
   "outputs": [
    {
     "data": {
      "image/png": "[encoded data removed]",
      "text/plain": [
       "<Figure size 432x288 with 1 Axes>"
      ]
     },
     "metadata": {
      "needs_background": "light"
     },
     "output_type": "display_data"
    }
   ],
   "source": [
    "# summarize history for loss\n",
    "plt.plot(model_history.history['loss'])\n",
    "plt.plot(model_history.history['val_loss'])\n",
    "plt.title('model loss')\n",
    "plt.ylabel('loss')\n",
    "plt.xlabel('epoch')\n",
    "plt.legend(['train', 'test'], loc='upper left')\n",
    "plt.show()"
   ]
  },
  {
   "cell_type": "code",
   "execution_count": 38,
   "id": "52b195dd",
   "metadata": {},
   "outputs": [
    {
     "name": "stdout",
     "output_type": "stream",
     "text": [
      "63/63 [==============================] - 0s 2ms/step\n"
     ]
    }
   ],
   "source": [
    "# Part 3 - Making the predictions and evaluating the model\n",
    "\n",
    "# Predicting the Test set results\n",
    "y_pred = classifier.predict(X_test)\n",
    "y_pred = (y_pred > 0.5)"
   ]
  },
  {
   "cell_type": "code",
   "execution_count": 35,
   "id": "cc735bcd",
   "metadata": {},
   "outputs": [],
   "source": [
    "# Making the Confusion Matrix\n",
    "from sklearn.metrics import confusion_matrix\n",
    "cm = confusion_matrix(y_test, y_pred)"
   ]
  },
  {
   "cell_type": "code",
   "execution_count": 36,
   "id": "5741f305",
   "metadata": {},
   "outputs": [
    {
     "data": {
      "text/plain": [
       "0.864"
      ]
     },
     "execution_count": 36,
     "metadata": {},
     "output_type": "execute_result"
    }
   ],
   "source": [
    "# Calculate the Accuracy\n",
    "from sklearn.metrics import accuracy_score\n",
    "score=accuracy_score(y_pred,y_test)\n",
    "score"
   ]
  },
  {
   "cell_type": "code",
   "execution_count": null,
   "id": "4eaf2860",
   "metadata": {},
   "outputs": [],
   "source": []
  },
  {
   "cell_type": "code",
   "execution_count": null,
   "id": "b76e6047",
   "metadata": {},
   "outputs": [],
   "source": []
  }
 ],
 "metadata": {
  "kernelspec": {
   "display_name": "Python 3 (ipykernel)",
   "language": "python",
   "name": "python3"
  },
  "language_info": {
   "codemirror_mode": {
    "name": "ipython",
    "version": 3
   },
   "file_extension": ".py",
   "mimetype": "text/x-python",
   "name": "python",
   "nbconvert_exporter": "python",
   "pygments_lexer": "ipython3",
   "version": "3.9.12"
  }
 },
 "nbformat": 4,
 "nbformat_minor": 5
}
